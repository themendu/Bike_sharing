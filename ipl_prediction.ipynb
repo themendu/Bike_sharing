{
  "nbformat": 4,
  "nbformat_minor": 0,
  "metadata": {
    "colab": {
      "name": "ipl_prediction.ipynb",
      "provenance": [],
      "collapsed_sections": [],
      "authorship_tag": "ABX9TyM76yA3CEywgPvhT+wpH+qo",
      "include_colab_link": true
    },
    "kernelspec": {
      "name": "python3",
      "display_name": "Python 3"
    }
  },
  "cells": [
    {
      "cell_type": "markdown",
      "metadata": {
        "id": "view-in-github",
        "colab_type": "text"
      },
      "source": [
        "<a href=\"https://colab.research.google.com/github/themendu/Bike_sharing/blob/master/ipl_prediction.ipynb\" target=\"_parent\"><img src=\"https://colab.research.google.com/assets/colab-badge.svg\" alt=\"Open In Colab\"/></a>"
      ]
    },
    {
      "cell_type": "code",
      "metadata": {
        "id": "Gmmt0cLmN6n1",
        "colab_type": "code",
        "colab": {}
      },
      "source": [
        "import pandas as pd\n",
        "import numpy as np"
      ],
      "execution_count": 0,
      "outputs": []
    },
    {
      "cell_type": "code",
      "metadata": {
        "id": "lufkySZZN_Yc",
        "colab_type": "code",
        "outputId": "799b3804-9384-450b-f104-2c05d468ee48",
        "colab": {
          "base_uri": "https://localhost:8080/",
          "height": 120
        }
      },
      "source": [
        "from google.colab import drive\n",
        "drive.mount('/content/drive')"
      ],
      "execution_count": 4,
      "outputs": [
        {
          "output_type": "stream",
          "text": [
            "Go to this URL in a browser: https://accounts.google.com/o/oauth2/auth?client_id=947318989803-6bn6qk8qdgf4n4g3pfee6491hc0brc4i.apps.googleusercontent.com&redirect_uri=urn%3aietf%3awg%3aoauth%3a2.0%3aoob&response_type=code&scope=email%20https%3a%2f%2fwww.googleapis.com%2fauth%2fdocs.test%20https%3a%2f%2fwww.googleapis.com%2fauth%2fdrive%20https%3a%2f%2fwww.googleapis.com%2fauth%2fdrive.photos.readonly%20https%3a%2f%2fwww.googleapis.com%2fauth%2fpeopleapi.readonly\n",
            "\n",
            "Enter your authorization code:\n",
            "··········\n",
            "Mounted at /content/drive\n"
          ],
          "name": "stdout"
        }
      ]
    },
    {
      "cell_type": "code",
      "metadata": {
        "id": "KwzOzxWOQcPb",
        "colab_type": "code",
        "colab": {}
      },
      "source": [
        "\n",
        "final=pd.read_csv('/content/drive/My Drive/changed_data.csv')"
      ],
      "execution_count": 0,
      "outputs": []
    },
    {
      "cell_type": "code",
      "metadata": {
        "id": "L9b0HfNNQ-tu",
        "colab_type": "code",
        "outputId": "3a148719-8342-47e0-e24a-43c512fb0d2a",
        "colab": {
          "base_uri": "https://localhost:8080/",
          "height": 33
        }
      },
      "source": [
        "\n",
        "final.shape"
      ],
      "execution_count": 80,
      "outputs": [
        {
          "output_type": "execute_result",
          "data": {
            "text/plain": [
              "(519, 73)"
            ]
          },
          "metadata": {
            "tags": []
          },
          "execution_count": 80
        }
      ]
    },
    {
      "cell_type": "code",
      "metadata": {
        "id": "rP8fXUBBcueb",
        "colab_type": "code",
        "colab": {}
      },
      "source": [
        "final= final.astype('float64') "
      ],
      "execution_count": 0,
      "outputs": []
    },
    {
      "cell_type": "code",
      "metadata": {
        "id": "yFcdth5NRNt4",
        "colab_type": "code",
        "colab": {}
      },
      "source": [
        "final.drop(columns=['Unnamed: 0'],inplace=True)"
      ],
      "execution_count": 0,
      "outputs": []
    },
    {
      "cell_type": "code",
      "metadata": {
        "id": "JyfBMvqWT_A_",
        "colab_type": "code",
        "colab": {
          "base_uri": "https://localhost:8080/",
          "height": 218
        },
        "outputId": "2a776656-633a-47d2-f4c0-ea7e62302639"
      },
      "source": [
        "final.isnull().any()"
      ],
      "execution_count": 83,
      "outputs": [
        {
          "output_type": "execute_result",
          "data": {
            "text/plain": [
              "Season_Year                      False\n",
              "day                              False\n",
              "month                            False\n",
              "winner                           False\n",
              "a                                False\n",
              "                                 ...  \n",
              "Kolkata Knight Riders.1          False\n",
              "Mumbai Indians.1                 False\n",
              "Rajasthan Royals.1               False\n",
              "Royal Challengers Bangalore.1    False\n",
              "Sunrisers Hyderabad.1            False\n",
              "Length: 72, dtype: bool"
            ]
          },
          "metadata": {
            "tags": []
          },
          "execution_count": 83
        }
      ]
    },
    {
      "cell_type": "code",
      "metadata": {
        "id": "fg4IApC09bzb",
        "colab_type": "code",
        "colab": {}
      },
      "source": [
        "final_team1=final.iloc[:,0:64]"
      ],
      "execution_count": 0,
      "outputs": []
    },
    {
      "cell_type": "code",
      "metadata": {
        "id": "X460mypr9b3S",
        "colab_type": "code",
        "colab": {}
      },
      "source": [
        "listhy=final.columns[56:64]\n",
        "final_team2=final.drop(columns=listhy,inplace=False)"
      ],
      "execution_count": 0,
      "outputs": []
    },
    {
      "cell_type": "code",
      "metadata": {
        "id": "LQ10Z_xXRSgv",
        "colab_type": "code",
        "colab": {}
      },
      "source": [
        "from sklearn.model_selection import train_test_split\n",
        "def datasplitter(data):\n",
        "    train_data, val_data = train_test_split(data, test_size = 0.15, random_state = 9)\n",
        "    y_train = train_data['winner'].values\n",
        "    y_val = val_data['winner'].values\n",
        "    x_train = train_data.drop(['winner'], axis = 1).values\n",
        "    x_val = val_data.drop(['winner'], axis = 1).values\n",
        "    return y_train,y_val,x_train,x_val\n",
        "\n",
        "\n",
        "y_train,y_val,x_train,x_val=datasplitter(final)\n",
        "#y_train2,y_val2,x_train2,x_val2=datasplitter(final_team2)\n"
      ],
      "execution_count": 0,
      "outputs": []
    },
    {
      "cell_type": "code",
      "metadata": {
        "id": "N-Y1vABkHycj",
        "colab_type": "code",
        "colab": {}
      },
      "source": [
        "from sklearn.preprocessing import StandardScaler\n",
        "scaler = StandardScaler()\n",
        "\n",
        "x_train1=scaler.fit_transform(x_train)\n",
        "\n",
        "x_val1=scaler.transform(x_val)"
      ],
      "execution_count": 0,
      "outputs": []
    },
    {
      "cell_type": "code",
      "metadata": {
        "colab_type": "code",
        "outputId": "1af2a610-29af-4034-812b-74b5844fc728",
        "id": "84nL5NnFzVM2",
        "colab": {
          "base_uri": "https://localhost:8080/",
          "height": 746
        }
      },
      "source": [
        "import tensorflow as tf\n",
        "from keras import models\n",
        "from keras import layers\n",
        "from keras.layers import Dropout\n",
        "from keras import optimizers\n",
        "from keras import initializers\n",
        "\n",
        "\n",
        "model = models.Sequential()\n",
        "model.add(Dropout(0.2, input_shape=(71,)))\n",
        "model.add(layers.Dense(32, activation='relu'))\n",
        "model.add(layers.Dense(32, activation='relu'))\n",
        "model.add(layers.Dense(1, activation='sigmoid'))\n",
        "\n",
        "opt=optimizers.SGD(lr=0.001, momentum=0.8, nesterov=True)\n",
        "#opt=optimizers.Adadelta(lr=0.005, rho=0.95)\n",
        "\n",
        "model.compile(optimizer=opt, loss='binary_crossentropy', metrics=['accuracy'])\n",
        "history = model.fit(x_train1,y_train,epochs=20,batch_size=32,validation_data=(x_val1, y_val))\n",
        "\n",
        "\n"
      ],
      "execution_count": 106,
      "outputs": [
        {
          "output_type": "stream",
          "text": [
            "Train on 441 samples, validate on 78 samples\n",
            "Epoch 1/20\n",
            "441/441 [==============================] - 2s 4ms/step - loss: 0.7954 - acc: 0.5669 - val_loss: 0.7547 - val_acc: 0.5385\n",
            "Epoch 2/20\n",
            "441/441 [==============================] - 0s 62us/step - loss: 0.7571 - acc: 0.5646 - val_loss: 0.7366 - val_acc: 0.5128\n",
            "Epoch 3/20\n",
            "441/441 [==============================] - 0s 62us/step - loss: 0.7395 - acc: 0.5578 - val_loss: 0.7248 - val_acc: 0.5513\n",
            "Epoch 4/20\n",
            "441/441 [==============================] - 0s 64us/step - loss: 0.7223 - acc: 0.5624 - val_loss: 0.7171 - val_acc: 0.5641\n",
            "Epoch 5/20\n",
            "441/441 [==============================] - 0s 62us/step - loss: 0.7292 - acc: 0.5374 - val_loss: 0.7124 - val_acc: 0.5641\n",
            "Epoch 6/20\n",
            "441/441 [==============================] - 0s 65us/step - loss: 0.7279 - acc: 0.5533 - val_loss: 0.7092 - val_acc: 0.5385\n",
            "Epoch 7/20\n",
            "441/441 [==============================] - 0s 62us/step - loss: 0.7091 - acc: 0.5760 - val_loss: 0.7076 - val_acc: 0.5128\n",
            "Epoch 8/20\n",
            "441/441 [==============================] - 0s 67us/step - loss: 0.7078 - acc: 0.5601 - val_loss: 0.7061 - val_acc: 0.5256\n",
            "Epoch 9/20\n",
            "441/441 [==============================] - 0s 63us/step - loss: 0.6934 - acc: 0.5601 - val_loss: 0.7052 - val_acc: 0.5128\n",
            "Epoch 10/20\n",
            "441/441 [==============================] - 0s 64us/step - loss: 0.6928 - acc: 0.5646 - val_loss: 0.7047 - val_acc: 0.5128\n",
            "Epoch 11/20\n",
            "441/441 [==============================] - 0s 59us/step - loss: 0.7027 - acc: 0.5374 - val_loss: 0.7047 - val_acc: 0.5256\n",
            "Epoch 12/20\n",
            "441/441 [==============================] - 0s 63us/step - loss: 0.6957 - acc: 0.5533 - val_loss: 0.7044 - val_acc: 0.5385\n",
            "Epoch 13/20\n",
            "441/441 [==============================] - 0s 66us/step - loss: 0.6977 - acc: 0.5488 - val_loss: 0.7039 - val_acc: 0.5385\n",
            "Epoch 14/20\n",
            "441/441 [==============================] - 0s 63us/step - loss: 0.6892 - acc: 0.5646 - val_loss: 0.7036 - val_acc: 0.5385\n",
            "Epoch 15/20\n",
            "441/441 [==============================] - 0s 80us/step - loss: 0.6888 - acc: 0.5646 - val_loss: 0.7037 - val_acc: 0.5385\n",
            "Epoch 16/20\n",
            "441/441 [==============================] - 0s 66us/step - loss: 0.6813 - acc: 0.5714 - val_loss: 0.7038 - val_acc: 0.5385\n",
            "Epoch 17/20\n",
            "441/441 [==============================] - 0s 67us/step - loss: 0.6799 - acc: 0.5737 - val_loss: 0.7037 - val_acc: 0.5513\n",
            "Epoch 18/20\n",
            "441/441 [==============================] - 0s 64us/step - loss: 0.6870 - acc: 0.5578 - val_loss: 0.7034 - val_acc: 0.5641\n",
            "Epoch 19/20\n",
            "441/441 [==============================] - 0s 63us/step - loss: 0.6905 - acc: 0.5351 - val_loss: 0.7035 - val_acc: 0.5641\n",
            "Epoch 20/20\n",
            "441/441 [==============================] - 0s 64us/step - loss: 0.6788 - acc: 0.5624 - val_loss: 0.7035 - val_acc: 0.5641\n"
          ],
          "name": "stdout"
        }
      ]
    },
    {
      "cell_type": "code",
      "metadata": {
        "id": "zX3wXU2aRuHC",
        "colab_type": "code",
        "outputId": "30a3ca72-c03b-469c-a176-c78d2840575f",
        "colab": {
          "base_uri": "https://localhost:8080/",
          "height": 295
        }
      },
      "source": [
        "import matplotlib.pyplot as plt\n",
        "loss = history.history['loss']\n",
        "val_loss = history.history['val_loss']\n",
        "epochs = range(1, len(loss) + 1)\n",
        "plt.plot(epochs, loss, 'bo', label='Training loss')\n",
        "plt.plot(epochs, val_loss, 'b', label='Validation loss')\n",
        "plt.title('Training and validation loss')\n",
        "plt.xlabel('Epochs')\n",
        "plt.ylabel('Loss')\n",
        "plt.legend()\n",
        "plt.show()\n",
        "\n"
      ],
      "execution_count": 107,
      "outputs": [
        {
          "output_type": "display_data",
          "data": {
            "image/png": "[encoded data removed]",
            "text/plain": [
              "<Figure size 432x288 with 1 Axes>"
            ]
          },
          "metadata": {
            "tags": []
          }
        }
      ]
    },
    {
      "cell_type": "code",
      "metadata": {
        "id": "81oruX4ycuj7",
        "colab_type": "code",
        "colab": {}
      },
      "source": [
        ""
      ],
      "execution_count": 0,
      "outputs": []
    },
    {
      "cell_type": "code",
      "metadata": {
        "id": "AMaAsKxFcuoN",
        "colab_type": "code",
        "colab": {}
      },
      "source": [
        ""
      ],
      "execution_count": 0,
      "outputs": []
    },
    {
      "cell_type": "code",
      "metadata": {
        "id": "vV6evdCncuh1",
        "colab_type": "code",
        "colab": {}
      },
      "source": [
        ""
      ],
      "execution_count": 0,
      "outputs": []
    }
  ]
}